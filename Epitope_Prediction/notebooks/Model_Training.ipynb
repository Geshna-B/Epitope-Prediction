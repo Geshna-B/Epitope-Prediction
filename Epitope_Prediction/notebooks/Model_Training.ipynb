{
 "cells": [
  {
   "cell_type": "code",
   "execution_count": 10,
   "id": "e1f32218-f03b-4614-9792-e8d34367cab6",
   "metadata": {},
   "outputs": [
    {
     "name": "stdout",
     "output_type": "stream",
     "text": [
      "Feature selection completed. Saved as 'selected_features.csv'.\n"
     ]
    }
   ],
   "source": [
    "import pandas as pd\n",
    "import numpy as np\n",
    "import seaborn as sns\n",
    "import matplotlib.pyplot as plt\n",
    "\n",
    "# Load the processed dataset\n",
    "df = pd.read_csv(\"../data/balanced_peptide_data.csv\")\n",
    "\n",
    "# Compute correlation matrix\n",
    "corr_matrix = df.corr()\n",
    "\n",
    "# Find highly correlated features\n",
    "corr_threshold = 0.9\n",
    "high_corr_features = set()\n",
    "\n",
    "for col in corr_matrix.columns:\n",
    "    high_corr = corr_matrix.index[abs(corr_matrix[col]) > corr_threshold].tolist()\n",
    "    \n",
    "    # Ensure col is in high_corr before removing\n",
    "    if col in high_corr:\n",
    "        high_corr.remove(col)\n",
    "    \n",
    "    high_corr_features.update(high_corr)\n",
    "\n",
    "# Drop highly correlated features\n",
    "df_reduced = df.drop(columns=high_corr_features)\n",
    "\n",
    "# Save the reduced feature set\n",
    "df_reduced.to_csv(\"../data/selected_features.csv\", index=False)\n",
    "print(\"Feature selection completed. Saved as 'selected_features.csv'.\")\n"
   ]
  },
  {
   "cell_type": "code",
   "execution_count": 14,
   "id": "b7f4718b-9522-4772-ba61-74c8528977d8",
   "metadata": {},
   "outputs": [
    {
     "name": "stdout",
     "output_type": "stream",
     "text": [
      "PCA applied. Saved as 'pca_features.csv'.\n"
     ]
    }
   ],
   "source": [
    "import pandas as pd\n",
    "from sklearn.decomposition import PCA\n",
    "from sklearn.preprocessing import StandardScaler\n",
    "\n",
    "# Load the selected features dataset\n",
    "df_reduced = pd.read_csv(\"../data/selected_features.csv\")  # Ensure correct file path\n",
    "\n",
    "# Standardize features (excluding target column)\n",
    "scaler = StandardScaler()\n",
    "scaled_features = scaler.fit_transform(df_reduced.drop(columns=['target']))\n",
    "\n",
    "# Apply PCA (keeping 95% variance)\n",
    "pca = PCA(n_components=0.95)\n",
    "pca_features = pca.fit_transform(scaled_features)\n",
    "\n",
    "# Convert PCA result into DataFrame\n",
    "df_pca = pd.DataFrame(pca_features)\n",
    "df_pca['target'] = df_reduced['target'].values\n",
    "\n",
    "# Save PCA-reduced dataset\n",
    "df_pca.to_csv(\"../data/pca_features.csv\", index=False)\n",
    "print(\"PCA applied. Saved as 'pca_features.csv'.\")\n"
   ]
  },
  {
   "cell_type": "code",
   "execution_count": 2,
   "id": "b012a39a-7e3c-4d64-93e3-2a9acd4f3723",
   "metadata": {},
   "outputs": [
    {
     "ename": "AttributeError",
     "evalue": "'DataFrame' object has no attribute 'components_'",
     "output_type": "error",
     "traceback": [
      "\u001b[31m-------------------------------------------------------------\u001b[39m",
      "\u001b[31mAttributeError\u001b[39m              Traceback (most recent call last)",
      "\u001b[32m~\\AppData\\Local\\Temp\\ipykernel_22388\\1853623599.py\u001b[39m in \u001b[36m?\u001b[39m\u001b[34m()\u001b[39m\n\u001b[32m     10\u001b[39m \u001b[38;5;66;03m# Extract original feature names (excluding target)\u001b[39;00m\n\u001b[32m     11\u001b[39m original_feature_names = df_original.drop(columns=[\u001b[33m'target'\u001b[39m]).columns\n\u001b[32m     12\u001b[39m \n\u001b[32m     13\u001b[39m \u001b[38;5;66;03m# Map PCA components to original features\u001b[39;00m\n\u001b[32m---> \u001b[39m\u001b[32m14\u001b[39m pca_feature_mapping = pd.DataFrame(pca.components_, columns=original_feature_names)\n\u001b[32m     15\u001b[39m \n\u001b[32m     16\u001b[39m \u001b[38;5;66;03m# Print PCA components contribution\u001b[39;00m\n\u001b[32m     17\u001b[39m print(\u001b[33m\"PCA Feature Contributions:\\n\"\u001b[39m, pca_feature_mapping)\n",
      "\u001b[32m~\\Downloads\\Epitope_Prediction\\venv\\Lib\\site-packages\\pandas\\core\\generic.py\u001b[39m in \u001b[36m?\u001b[39m\u001b[34m(self, name)\u001b[39m\n\u001b[32m   6295\u001b[39m             \u001b[38;5;28;01mand\u001b[39;00m name \u001b[38;5;28;01mnot\u001b[39;00m \u001b[38;5;28;01min\u001b[39;00m self._accessors\n\u001b[32m   6296\u001b[39m             \u001b[38;5;28;01mand\u001b[39;00m self._info_axis._can_hold_identifiers_and_holds_name(name)\n\u001b[32m   6297\u001b[39m         ):\n\u001b[32m   6298\u001b[39m             \u001b[38;5;28;01mreturn\u001b[39;00m self[name]\n\u001b[32m-> \u001b[39m\u001b[32m6299\u001b[39m         \u001b[38;5;28;01mreturn\u001b[39;00m object.__getattribute__(self, name)\n",
      "\u001b[31mAttributeError\u001b[39m: 'DataFrame' object has no attribute 'components_'"
     ]
    }
   ],
   "source": [
    "import joblib\n",
    "import pandas as pd\n",
    "\n",
    "# Load the PCA model you used for training\n",
    "pca = joblib.load(\"../data/df.pkl\")  # If you saved PCA before\n",
    "\n",
    "# Load the original dataset (before PCA)\n",
    "df_original = pd.read_csv(\"../data/selected_features.csv\")\n",
    "\n",
    "# Extract original feature names (excluding target)\n",
    "original_feature_names = df_original.drop(columns=['target']).columns\n",
    "\n",
    "# Map PCA components to original features\n",
    "pca_feature_mapping = pd.DataFrame(pca.components_, columns=original_feature_names)\n",
    "\n",
    "# Print PCA components contribution\n",
    "print(\"PCA Feature Contributions:\\n\", pca_feature_mapping)\n"
   ]
  },
  {
   "cell_type": "code",
   "execution_count": null,
   "id": "3414ddb8-e3ae-4b6e-b7eb-1f4ca292bd41",
   "metadata": {},
   "outputs": [],
   "source": []
  }
 ],
 "metadata": {
  "kernelspec": {
   "display_name": "Python 3 (ipykernel)",
   "language": "python",
   "name": "python3"
  },
  "language_info": {
   "codemirror_mode": {
    "name": "ipython",
    "version": 3
   },
   "file_extension": ".py",
   "mimetype": "text/x-python",
   "name": "python",
   "nbconvert_exporter": "python",
   "pygments_lexer": "ipython3",
   "version": "3.11.4"
  }
 },
 "nbformat": 4,
 "nbformat_minor": 5
}
