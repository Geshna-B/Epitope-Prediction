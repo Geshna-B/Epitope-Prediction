{
 "cells": [
  {
   "cell_type": "code",
   "execution_count": 10,
   "id": "87fa8cac-3d13-456f-ab44-a7bd090559e6",
   "metadata": {},
   "outputs": [
    {
     "name": "stdout",
     "output_type": "stream",
     "text": [
      "{'error': 'The feature names should match those that were passed during fit.\\nFeature names seen at fit time, yet now missing:\\n- parent_protein_id\\n- peptide_seq\\n- protein_seq\\n'}\n"
     ]
    }
   ],
   "source": [
    "import requests\n",
    "\n",
    "url = \"http://127.0.0.1:5001/predict\"\n",
    "\n",
    "payload = {\n",
    "  \"parent_protein_id\": \"P12345\",\n",
    "  \"protein_seq\": \"MVLSPADKTNVKAAW\",\n",
    "  \"peptide_seq\": \"ADKTNVK\",\n",
    "  \"chou_fasman\": 1.2,\n",
    "  \"emini\": 0.7,\n",
    "  \"kolaskar_tongaonkar\": 1.1,\n",
    "  \"parker\": -0.2,\n",
    "  \"isoelectric_point\": 6.8,\n",
    "  \"aromaticity\": 0.05,\n",
    "  \"hydrophobicity\": 0.3,\n",
    "  \"stability\": 34.0,\n",
    "  \"minhash_signature\": 0.56,\n",
    "  \"Exact Match Exists\": 1,\n",
    "  \"Appears as Subsequence (MHC Binding)\": 0,\n",
    "  \"Closest Peptide\": 0.7,\n",
    "  \"Path Length\": 14\n",
    "}\n",
    "\n",
    "response = requests.post(url, json=payload)\n",
    "print(response.json())\n"
   ]
  },
  {
   "cell_type": "code",
   "execution_count": null,
   "id": "fc5c8ff2-498f-42ff-82be-154aaaf5e79e",
   "metadata": {},
   "outputs": [],
   "source": []
  }
 ],
 "metadata": {
  "kernelspec": {
   "display_name": "Python 3 (ipykernel)",
   "language": "python",
   "name": "python3"
  },
  "language_info": {
   "codemirror_mode": {
    "name": "ipython",
    "version": 3
   },
   "file_extension": ".py",
   "mimetype": "text/x-python",
   "name": "python",
   "nbconvert_exporter": "python",
   "pygments_lexer": "ipython3",
   "version": "3.11.4"
  }
 },
 "nbformat": 4,
 "nbformat_minor": 5
}
